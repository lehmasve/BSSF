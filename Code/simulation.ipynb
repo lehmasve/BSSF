{
 "cells": [
  {
   "cell_type": "markdown",
   "metadata": {},
   "source": [
    "## Libraries"
   ]
  },
  {
   "cell_type": "code",
   "execution_count": 1,
   "metadata": {},
   "outputs": [
    {
     "name": "stdout",
     "output_type": "stream",
     "text": [
      "Set parameter Username\n",
      "Academic license - for non-commercial use only - expires 2025-01-09\n"
     ]
    }
   ],
   "source": [
    "### Load Libraries and Functions\n",
    "import os\n",
    "import pickle\n",
    "import numpy as np\n",
    "import pandas as pd\n",
    "\n",
    "import matplotlib.pyplot as plt\n",
    "from matplotlib.ticker import MaxNLocator\n",
    "import matplotlib.patches as mpatches\n",
    "\n",
    "from collections import Counter\n",
    "\n",
    "from _cm import lambda_path, eln, bss, crr, dtr, candidate_models, candidate_models_kf\n",
    "from _fm import bssf_cv, fss_cv, lasso_cv, csr_cv, avg_best_cv, pelasso_cv, psgd_cv\n",
    "from _helpers import relevant_predictor, run_results\n",
    "from _visualization import plot_subsetsize, plot_cm, plot_preds\n",
    "from _simulation import sim_linear, sim_frd1, sim_frd2, sim_data\n",
    "\n",
    "import gurobipy as gp\n",
    "gp.setParam('OutputFlag', 0)\n",
    "\n",
    "if os.name == 'nt':\n",
    "    import dill\n",
    "    dill.settings['recurse'] = True"
   ]
  },
  {
   "cell_type": "code",
   "execution_count": 2,
   "metadata": {},
   "outputs": [],
   "source": [
    "# Set Path\n",
    "path  =  os.path.dirname(os.getcwd())"
   ]
  },
  {
   "cell_type": "markdown",
   "metadata": {},
   "source": [
    "## Simulation"
   ]
  },
  {
   "cell_type": "code",
   "execution_count": 3,
   "metadata": {},
   "outputs": [],
   "source": [
    "### Parameter\n",
    "# Setting\n",
    "N = 5\n",
    "train = 100\n",
    "ran_st = 123\n",
    "simulation_settings = [\n",
    "    ('linear', 200, 100, 15, 1.0),\n",
    "    ('frd1', 200, 100, None, 1.0),\n",
    "    ('frd2', 200, 100, None, 1.0),\n",
    "    ('comb1', 200, 100, 50, 1.0),\n",
    "    ('comb2', 200, 100, 50, 1.0),\n",
    "]\n",
    "\n",
    "# Candidate Models\n",
    "cm_params = [\n",
    "    (\"bss\", {\"k_vec\": np.array([1, 2, 3, 4, 5, 6, 7, 8, 9, 10, 11, 12, 13, 14, 15]), \"n_jobs\": 1}),\n",
    "    #(\"eln\", {\"n_lambda\": 20, \"alpha_vec\": np.array([0.0, 0.25, 0.50, 0.75, 1.00]), \"n_jobs\": 1}),\n",
    "    #(\"crr\", {\"comp_vec\": np.array([1, 2, 3, 4, 5]), \"rep_range\": np.arange(1, 501), \"n_jobs\": 1}),\n",
    "    (\"dtr\", {\"vec_depth\": np.array([2, 3, 4, 5]), \"n_jobs\": 1}),\n",
    "    #(\"dtrst\", {\"n_jobs\": 1}),\n",
    "]"
   ]
  },
  {
   "cell_type": "code",
   "execution_count": 4,
   "metadata": {},
   "outputs": [
    {
     "name": "stdout",
     "output_type": "stream",
     "text": [
      "Running setting: Type=linear, n=200, p=100, s=15, snr=1.0\n",
      "Iteration: 1\n",
      "Iteration: 2\n",
      "Iteration: 3\n",
      "Iteration: 4\n"
     ]
    }
   ],
   "source": [
    "# Loop over settings\n",
    "for setting in simulation_settings:\n",
    "    \n",
    "    # Unpack setting tuple\n",
    "    sim_type, n, p, s, snr = setting\n",
    "    \n",
    "    # Print or process each setting\n",
    "    print(f\"Running setting: Type={sim_type}, n={n}, p={p}, s={s}, snr={snr}\")\n",
    "    \n",
    "    # Generate Data\n",
    "    X, y, indices = sim_data(sim_type, n, p, s, snr)\n",
    "    \n",
    "    # Run Results\n",
    "    results = run_results(N, X, y, train, cm_params, ran_st)\n",
    "    \n",
    "    # Save Results\n",
    "    filename = f\"{path}/Results/Simulation/{sim_type}_{n}_{p}_{s}_{snr}.pkl\"\n",
    "    with open(filename, 'wb') as file:\n",
    "        pickle.dump(results, file)"
   ]
  },
  {
   "cell_type": "code",
   "execution_count": null,
   "metadata": {},
   "outputs": [],
   "source": [
    "# Load Results\n",
    "for setting in simulation_settings:\n",
    "    \n",
    "    # Unpack setting tuple\n",
    "    sim_type, n, p, s, snr = setting\n",
    "    \n",
    "    # Print Setting\n",
    "    print(f\"Setting: Type={sim_type}, n={n}, p={p}, s={s}, snr={snr}\")\n",
    "    \n",
    "    # Load Results\n",
    "    filename = f\"{path}/Results/Simulation/{sim_type}_{n}_{p}_{s}_{snr}.pkl\"\n",
    "    with open(filename, 'rb') as file:\n",
    "        results = pickle.load(file)\n",
    "        \n",
    "    # Assign Results\n",
    "    preds = results['predictions']\n",
    "    scores = results['mse']\n",
    "    best_k = results['best_k']\n",
    "    bssf_weights = results['bssf_weights']\n",
    "    cf_models = results['cf_models']\n",
    "    cf_descriptions = results['cf_descriptions']\n",
    "    model_names = results['fmodel_names']\n",
    "    \n",
    "    # Relative to BSSF\n",
    "    relative_scores = np.round(np.mean(scores, axis = 0) / np.mean(scores, axis = 0)[6], 4)\n",
    "    \n",
    "    # Show\n",
    "    model_scores = {model: score for model, score in zip(model_names, relative_scores)}\n",
    "    print(model_scores)\n",
    "    \n",
    "    # Plot Subset-Size\n",
    "    plot_subsetsize(best_k, 5, N)\n",
    "    \n",
    "    # Plot Selected Candidate Models\n",
    "    plot_cm(bssf_weights, cf_descriptions, N)\n",
    "    \n",
    "    # Plot Selected Predictiors\n",
    "    plot_preds(cf_models, bssf_weights, 200, N)"
   ]
  }
 ],
 "metadata": {
  "kernelspec": {
   "display_name": "env",
   "language": "python",
   "name": "python3"
  },
  "language_info": {
   "codemirror_mode": {
    "name": "ipython",
    "version": 3
   },
   "file_extension": ".py",
   "mimetype": "text/x-python",
   "name": "python",
   "nbconvert_exporter": "python",
   "pygments_lexer": "ipython3",
   "version": "3.10.14"
  }
 },
 "nbformat": 4,
 "nbformat_minor": 2
}
