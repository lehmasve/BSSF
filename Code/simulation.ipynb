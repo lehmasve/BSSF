{
 "cells": [
  {
   "cell_type": "markdown",
   "metadata": {},
   "source": [
    "## Libraries"
   ]
  },
  {
   "cell_type": "code",
   "execution_count": 1,
   "metadata": {},
   "outputs": [
    {
     "name": "stdout",
     "output_type": "stream",
     "text": [
      "Set parameter Username\n",
      "Academic license - for non-commercial use only - expires 2025-01-09\n"
     ]
    }
   ],
   "source": [
    "### Load Libraries and Functions\n",
    "import os\n",
    "import pickle\n",
    "import numpy as np\n",
    "import pandas as pd\n",
    "\n",
    "import matplotlib.pyplot as plt\n",
    "from matplotlib.ticker import MaxNLocator\n",
    "import matplotlib.patches as mpatches\n",
    "\n",
    "from collections import Counter\n",
    "\n",
    "from _cm import lambda_path, eln, bss, crr, dtr, candidate_models, candidate_models_kf\n",
    "from _fm import bssf_cv, fss_cv, lasso_cv, csr_cv, avg_best_cv, pelasso_cv, psgd_cv\n",
    "from _helpers import relevant_predictor, run_results\n",
    "from _visualization import plot_subsetsize, plot_cm, plot_preds\n",
    "from _simulation import sim_linear, sim_frd1, sim_frd2, sim_data\n",
    "\n",
    "import gurobipy as gp\n",
    "gp.setParam('OutputFlag', 0)\n",
    "\n",
    "if os.name == 'nt':\n",
    "    import dill\n",
    "    dill.settings['recurse'] = True"
   ]
  },
  {
   "cell_type": "code",
   "execution_count": 2,
   "metadata": {},
   "outputs": [],
   "source": [
    "# Set Path\n",
    "path = os.path.dirname(os.getcwd())"
   ]
  },
  {
   "cell_type": "markdown",
   "metadata": {},
   "source": [
    "## Simulation"
   ]
  },
  {
   "cell_type": "code",
   "execution_count": 3,
   "metadata": {},
   "outputs": [],
   "source": [
    "### Parameter\n",
    "# Setting\n",
    "N = 4\n",
    "train = 100\n",
    "timeout = 10\n",
    "n_threads = 5\n",
    "simulation_settings = [\n",
    "    ('linear', 200, 100, 15, 1.0),\n",
    "    ('linear', 200, 100, 100, 1.0),\n",
    "    ('frd1', 200, 100, None, 1.0),\n",
    "    ('frd2', 200, 100, None, 1.0),\n",
    "    ('comb1', 200, 100, 50, 1.0),\n",
    "    ('comb2', 200, 100, 50, 1.0),\n",
    "]\n",
    "\n",
    "# Candidate Models\n",
    "cm_params = [\n",
    "    (\"bss\", {\"k_vec\": np.array([0, 1, 2, 3, 4, 5, 6, 7, 8, 9, 10]), \"n_jobs\": 1}),\n",
    "    #(\"eln\", {\"n_lambda\": 20, \"alpha_vec\": np.array([0.0, 0.25, 0.50, 0.75, 1.00]), \"n_jobs\": 1}),\n",
    "    #(\"crr\", {\"comp_vec\": np.array([1, 2, 3, 4, 5]), \"rep_range\": np.arange(1, 501), \"n_jobs\": 1}),\n",
    "    (\"dtr\", {\"vec_depth\": np.array([2, 3, 4, 5]), \"n_jobs\": 1}),\n",
    "    (\"dtrst\", {\"n_jobs\": 1}),\n",
    "]"
   ]
  },
  {
   "cell_type": "code",
   "execution_count": 4,
   "metadata": {},
   "outputs": [
    {
     "name": "stdout",
     "output_type": "stream",
     "text": [
      "Running setting: Type=linear, n=200, p=100, s=15, snr=1.0, timeout=10s\n",
      "Iteration 1/4\n",
      "Set parameter Username\n",
      "Academic license - for non-commercial use only - expires 2025-01-09\n",
      "Set parameter Username\n",
      "Academic license - for non-commercial use only - expires 2025-01-09\n",
      "Set parameter Username\n",
      "Academic license - for non-commercial use only - expires 2025-01-09\n",
      "Set parameter Username\n",
      "Academic license - for non-commercial use only - expires 2025-01-09\n",
      "Set parameter Username\n",
      "Academic license - for non-commercial use only - expires 2025-01-09\n",
      "Iteration 2/4\n",
      "Iteration 3/4\n",
      "Iteration 4/4\n",
      "Running setting: Type=linear, n=200, p=100, s=100, snr=1.0, timeout=10s\n",
      "Iteration 1/4\n",
      "Iteration 2/4\n",
      "Iteration 3/4\n",
      "Iteration 4/4\n"
     ]
    }
   ],
   "source": [
    "# Loop over settings\n",
    "for setting in simulation_settings:\n",
    "    \n",
    "    # Initialize empty list to store results\n",
    "    combined_results = {}   \n",
    "    \n",
    "    # Unpack setting tuple\n",
    "    sim_type, n, p, s, snr = setting\n",
    "    \n",
    "    # Print or process each setting\n",
    "    print(f\"Running setting: Type={sim_type}, n={n}, p={p}, s={s}, snr={snr}, timeout={timeout}s\") \n",
    "    \n",
    "    # Loop N times\n",
    "    for _ in range(N):\n",
    "        \n",
    "        # Progress\n",
    "        print(f\"Iteration {_+1}/{N}\")\n",
    "                \n",
    "        # Generate Data\n",
    "        X, y, indices = sim_data(sim_type, n, p, s, snr, _+1)\n",
    "        \n",
    "        # Run Results\n",
    "        results = run_results(1, X, y, train, cm_params, timeout, n_threads)\n",
    "        \n",
    "        # Combine results\n",
    "        for key, value in results.items():\n",
    "            if key in ['cf_descriptions', 'fmodel_names', 'bssf_timeout']:\n",
    "                combined_results[key] = value  # Overwrite or keep the same value\n",
    "            else:\n",
    "                if key in combined_results:\n",
    "                    combined_results[key].extend(value if isinstance(value, list) else [value])\n",
    "                else:\n",
    "                    combined_results[key] = value if isinstance(value, list) else [value]\n",
    "        \n",
    "        # Save Results\n",
    "        filename = f\"{path}/Results/Simulation/{sim_type}_{n}_{p}_{s}_{snr}.pkl\"\n",
    "        with open(filename, 'wb') as file:\n",
    "            pickle.dump(combined_results, file)"
   ]
  },
  {
   "cell_type": "code",
   "execution_count": 6,
   "metadata": {},
   "outputs": [
    {
     "name": "stdout",
     "output_type": "stream",
     "text": [
      "Setting: N=4, Type=linear, n=200, p=100, s=15, snr=1.0, CM=15, alpha=[103.0, 94.5, 175.2, 133.6], timeout=10s\n",
      "{'PHM': '1.25 (28.55)', 'LASSO': '1.14 (25.99)', 'PELASSO': '1.31 (29.96)', 'AVG_BEST': '1.03 (23.56)', 'CSR': '1.12 (25.53)', 'PSGD': '0.89 (20.26)', 'BSSF': '1.0 (22.87)'}\n",
      "Setting: N=4, Type=linear, n=200, p=100, s=100, snr=1.0, CM=15, alpha=[1005.5, 835.4, 547.8, 629.4], timeout=10s\n",
      "{'PHM': '1.06 (144.51)', 'LASSO': '0.99 (134.83)', 'PELASSO': '1.13 (153.89)', 'AVG_BEST': '1.01 (137.71)', 'CSR': '0.96 (130.56)', 'PSGD': '0.92 (124.43)', 'BSSF': '1.0 (135.98)'}\n"
     ]
    }
   ],
   "source": [
    "# Load Results\n",
    "for setting in simulation_settings:\n",
    "    \n",
    "    # Unpack setting tuple\n",
    "    sim_type, n, p, s, snr = setting\n",
    "        \n",
    "    # Load Results\n",
    "    filename = f\"{path}/Results/Simulation/{sim_type}_{n}_{p}_{s}_{snr}.pkl\"\n",
    "    with open(filename, 'rb') as file:\n",
    "        results = pickle.load(file)\n",
    "        \n",
    "    # Assign Results\n",
    "    y_test = results['y_test']\n",
    "    preds = results['predictions']\n",
    "    scores = results['mse']\n",
    "    best_k = results['best_k']\n",
    "    bssf_weights = results['bssf_weights']\n",
    "    cf_models = results['cf_models']\n",
    "    cf_descriptions = results['cf_descriptions']\n",
    "    model_names = results['fmodel_names']\n",
    "    bssf_timeout = results['bssf_timeout']\n",
    "    bssf_alpha = results['bssf_alpha']\n",
    "    runs = len(results['predictions'])\n",
    "    numb_cm = len(cf_models[0])\n",
    "    \n",
    "    # Print Setting\n",
    "    print(f\"Setting: N={runs}, Type={sim_type}, n={n}, p={p}, s={s}, snr={snr}, CM={numb_cm}, alpha={bssf_alpha}, timeout={bssf_timeout}s\")\n",
    "    \n",
    "    # Average MSE\n",
    "    mse_scores = np.mean(scores, axis = 0)\n",
    "\n",
    "    # Relative MSE (to BSSF)\n",
    "    relative_scores = np.round(mse_scores / mse_scores[6], 2)\n",
    "    \n",
    "    # Show\n",
    "    model_scores = {model: f\"{score} ({mse:.2f})\" for model, score, mse in zip(model_names, relative_scores, mse_scores)}\n",
    "    print(model_scores)\n",
    "    \n",
    "    # Plot Subset-Size\n",
    "    #plot_subsetsize(best_k, 5, runs)\n",
    "    \n",
    "    # Plot Selected Candidate Models\n",
    "    #plot_cm(bssf_weights, cf_descriptions, runs)\n",
    "    \n",
    "    # Plot Selected Predictiors\n",
    "    #plot_preds(cf_models, bssf_weights, p, runs)"
   ]
  },
  {
   "cell_type": "markdown",
   "metadata": {},
   "source": [
    "---"
   ]
  },
  {
   "cell_type": "code",
   "execution_count": null,
   "metadata": {},
   "outputs": [],
   "source": [
    "# # Loop over settings\n",
    "# for setting in simulation_settings:\n",
    "#     \n",
    "#     # Unpack setting tuple\n",
    "#     sim_type, n, p, s, snr = setting\n",
    "#     \n",
    "#     # Print or process each setting\n",
    "#     print(f\"Running setting: Type={sim_type}, n={n}, p={p}, s={s}, snr={snr}, alpha={alpha}, timeout={timeout}s\")\n",
    "#     \n",
    "#     # Generate Data\n",
    "#     X, y, indices = sim_data(sim_type, n, p, s, snr)\n",
    "#     \n",
    "#     # Run Results\n",
    "#     results = run_results(N, X, y, train, cm_params, timeout, alpha)\n",
    "#     \n",
    "#     # Save Results\n",
    "#     filename = f\"{path}/Results/Simulation/{sim_type}_{n}_{p}_{s}_{snr}.pkl\"\n",
    "#     with open(filename, 'wb') as file:\n",
    "#         pickle.dump(results, file)"
   ]
  }
 ],
 "metadata": {
  "kernelspec": {
   "display_name": "env",
   "language": "python",
   "name": "python3"
  },
  "language_info": {
   "codemirror_mode": {
    "name": "ipython",
    "version": 3
   },
   "file_extension": ".py",
   "mimetype": "text/x-python",
   "name": "python",
   "nbconvert_exporter": "python",
   "pygments_lexer": "ipython3",
   "version": "3.10.14"
  }
 },
 "nbformat": 4,
 "nbformat_minor": 2
}
